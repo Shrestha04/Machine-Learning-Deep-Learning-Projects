{
  "nbformat": 4,
  "nbformat_minor": 0,
  "metadata": {
    "colab": {
      "provenance": [],
      "collapsed_sections": [
        "bhTF2L4aHge2",
        "CCT6dcLXP_FM",
        "AyVuXyht43-G",
        "4nWyDJdQ6-vT",
        "BR4lgsjASOM3",
        "CgmhHU3YV1OF",
        "LuyZ5HzsocFF",
        "haowQBz0qF8R",
        "mIMqZ4L2qcuL",
        "53E5_j8_qc5q"
      ]
    },
    "kernelspec": {
      "name": "python3",
      "display_name": "Python 3"
    },
    "language_info": {
      "name": "python"
    }
  },
  "cells": [
    {
      "cell_type": "markdown",
      "source": [
        "#**1. K-Nearest Neighbor Algorithm**\n",
        "\n"
      ],
      "metadata": {
        "id": "bhTF2L4aHge2"
      }
    },
    {
      "cell_type": "code",
      "source": [
        "from google.colab import drive\n",
        "drive.mount('/content/drive')"
      ],
      "metadata": {
        "id": "Vf_qSgaVc2Nf",
        "colab": {
          "base_uri": "https://localhost:8080/"
        },
        "outputId": "8e033e20-4878-4e21-adc1-8d1bdbb288b9"
      },
      "execution_count": null,
      "outputs": [
        {
          "output_type": "stream",
          "name": "stdout",
          "text": [
            "Drive already mounted at /content/drive; to attempt to forcibly remount, call drive.mount(\"/content/drive\", force_remount=True).\n"
          ]
        }
      ]
    },
    {
      "cell_type": "code",
      "execution_count": null,
      "metadata": {
        "id": "p-igQlZGG_6O",
        "colab": {
          "base_uri": "https://localhost:8080/"
        },
        "outputId": "48c7cc73-5fe8-42e9-9940-3eb028d15070"
      },
      "outputs": [
        {
          "output_type": "stream",
          "name": "stdout",
          "text": [
            "<class 'pandas.core.frame.DataFrame'>\n",
            "RangeIndex: 150 entries, 0 to 149\n",
            "Data columns (total 6 columns):\n",
            " #   Column         Non-Null Count  Dtype  \n",
            "---  ------         --------------  -----  \n",
            " 0   Id             150 non-null    int64  \n",
            " 1   SepalLengthCm  150 non-null    float64\n",
            " 2   SepalWidthCm   150 non-null    float64\n",
            " 3   PetalLengthCm  150 non-null    float64\n",
            " 4   PetalWidthCm   150 non-null    float64\n",
            " 5   Species        150 non-null    object \n",
            "dtypes: float64(4), int64(1), object(1)\n",
            "memory usage: 7.2+ KB\n",
            "None\n",
            "['Iris-virginica' 'Iris-versicolor' 'Iris-setosa' 'Iris-virginica'\n",
            " 'Iris-setosa' 'Iris-virginica' 'Iris-setosa' 'Iris-versicolor'\n",
            " 'Iris-versicolor' 'Iris-versicolor' 'Iris-virginica' 'Iris-versicolor'\n",
            " 'Iris-versicolor' 'Iris-versicolor' 'Iris-versicolor' 'Iris-setosa'\n",
            " 'Iris-versicolor' 'Iris-versicolor' 'Iris-setosa' 'Iris-setosa'\n",
            " 'Iris-virginica' 'Iris-versicolor' 'Iris-setosa']\n",
            "[['Iris-virginica']\n",
            " ['Iris-versicolor']\n",
            " ['Iris-setosa']\n",
            " ['Iris-virginica']\n",
            " ['Iris-setosa']\n",
            " ['Iris-virginica']\n",
            " ['Iris-setosa']\n",
            " ['Iris-versicolor']\n",
            " ['Iris-versicolor']\n",
            " ['Iris-versicolor']\n",
            " ['Iris-virginica']\n",
            " ['Iris-versicolor']\n",
            " ['Iris-versicolor']\n",
            " ['Iris-versicolor']\n",
            " ['Iris-versicolor']\n",
            " ['Iris-setosa']\n",
            " ['Iris-versicolor']\n",
            " ['Iris-versicolor']\n",
            " ['Iris-setosa']\n",
            " ['Iris-setosa']\n",
            " ['Iris-virginica']\n",
            " ['Iris-versicolor']\n",
            " ['Iris-setosa']]\n",
            "Accuracy of our model is equal 100.0 %.\n"
          ]
        }
      ],
      "source": [
        "import numpy as np\n",
        "import pandas as pd\n",
        "import warnings\n",
        "warnings.filterwarnings(\"ignore\")\n",
        "\n",
        "dt =pd.read_csv('/content/drive/MyDrive/DataSet/iris.csv')\n",
        "print(dt.info(all))\n",
        "feature = ['SepalLengthCm', 'SepalWidthCm', 'PetalLengthCm','PetalWidthCm']\n",
        "predict = ['Species']\n",
        "X = dt[feature].values\n",
        "y = dt[predict].values\n",
        "\n",
        "from sklearn.model_selection import train_test_split\n",
        "X_train, X_test, y_train, y_test = train_test_split(X, y, test_size = 0.15, random_state = 0)\n",
        "\n",
        "from sklearn.neighbors import KNeighborsClassifier\n",
        "from sklearn.metrics import accuracy_score\n",
        "\n",
        "clf = KNeighborsClassifier(n_neighbors=3)\n",
        "clf.fit(X_train, y_train)\n",
        "\n",
        "y_pred = clf.predict(X_test)\n",
        "print(y_pred)\n",
        "print(y_test)\n",
        "accuracy = accuracy_score(y_test, y_pred)*100\n",
        "print('Accuracy of our model is equal ' + str(accuracy) + ' %.')"
      ]
    },
    {
      "cell_type": "markdown",
      "source": [
        "#**2. Bagging classifier**"
      ],
      "metadata": {
        "id": "CCT6dcLXP_FM"
      }
    },
    {
      "cell_type": "code",
      "source": [
        "import numpy as np\n",
        "import pandas as pd\n",
        "import warnings\n",
        "warnings.filterwarnings(\"ignore\")\n",
        "\n",
        "dt =pd.read_csv('/content/drive/MyDrive/iris.csv')\n",
        "\n",
        "feature = ['SepalLengthCm', 'SepalWidthCm', 'PetalLengthCm','PetalWidthCm']\n",
        "predict = ['Species']\n",
        "X = dt[feature].values\n",
        "Y = dt[predict].values\n",
        "\n",
        "from sklearn.model_selection import train_test_split\n",
        "\n",
        "x_train,x_test,y_train,y_test= train_test_split(X,Y,test_size=0.15, random_state= 4)\n",
        "\n",
        "from sklearn.ensemble import BaggingClassifier\n",
        "\n",
        "bg = BaggingClassifier(n_estimators=20)\n",
        "bg.fit(x_train,y_train)\n",
        "accuracy = bg.score(x_test,y_test)\n",
        "print('The Accuracy Percentage is '+ str(accuracy*100))\n"
      ],
      "metadata": {
        "colab": {
          "base_uri": "https://localhost:8080/"
        },
        "id": "YWWDouFJ23ap",
        "outputId": "2db38b1a-d015-43e5-d3a1-eb4496857985"
      },
      "execution_count": null,
      "outputs": [
        {
          "output_type": "stream",
          "name": "stdout",
          "text": [
            "The Accuracy Percentage is 95.65217391304348\n"
          ]
        }
      ]
    },
    {
      "cell_type": "markdown",
      "source": [
        "#**3. AdaBoost Classifier**"
      ],
      "metadata": {
        "id": "AyVuXyht43-G"
      }
    },
    {
      "cell_type": "code",
      "source": [
        "import numpy as np\n",
        "import pandas as pd\n",
        "import warnings\n",
        "warnings.filterwarnings(\"ignore\")\n",
        "\n",
        "dt =pd.read_csv('/content/drive/MyDrive/iris.csv')\n",
        "\n",
        "feature = ['SepalLengthCm', 'SepalWidthCm', 'PetalLengthCm','PetalWidthCm']\n",
        "predict = ['Species']\n",
        "X = dt[feature].values\n",
        "Y = dt[predict].values\n",
        "\n",
        "from sklearn.model_selection import train_test_split\n",
        "\n",
        "x_train,x_test,y_train,y_test= train_test_split(X,Y,test_size=0.15, random_state= 4)\n",
        "\n",
        "\n",
        "from sklearn.ensemble import AdaBoostClassifier\n",
        "\n",
        "ada = AdaBoostClassifier(n_estimators=10)\n",
        "ada.fit(x_train,y_train)\n",
        "\n",
        "accuracy = ada.score(x_test,y_test)\n",
        "print('The Accuracy Percentage is '+ str(accuracy*100))\n"
      ],
      "metadata": {
        "colab": {
          "base_uri": "https://localhost:8080/"
        },
        "id": "gg20lpO54-zP",
        "outputId": "25fe97dc-d47b-43c8-feeb-4e851c16e5c8"
      },
      "execution_count": null,
      "outputs": [
        {
          "output_type": "stream",
          "name": "stdout",
          "text": [
            "The Accuracy Percentage is 95.65217391304348\n"
          ]
        }
      ]
    },
    {
      "cell_type": "markdown",
      "source": [
        "#**4. Support Vector Machine**"
      ],
      "metadata": {
        "id": "4nWyDJdQ6-vT"
      }
    },
    {
      "cell_type": "code",
      "source": [
        "import numpy as np\n",
        "import pandas as pd\n",
        "import warnings\n",
        "warnings.filterwarnings(\"ignore\")\n",
        "\n",
        "dt =pd.read_csv('/content/drive/MyDrive/iris.csv')\n",
        "\n",
        "feature = ['SepalLengthCm', 'SepalWidthCm', 'PetalLengthCm','PetalWidthCm']\n",
        "predict = ['Species']\n",
        "X = dt[feature].values\n",
        "Y = dt[predict].values\n",
        "\n",
        "from sklearn.model_selection import train_test_split\n",
        "\n",
        "x_train,x_test,y_train,y_test= train_test_split(X,Y,test_size=0.15, random_state= 4)\n",
        "\n",
        "from sklearn import svm\n",
        "clff =  svm.SVC(kernel='linear')\n",
        "clff.fit(x_train, y_train)\n",
        "y_pred = clff.predict(X_test)\n",
        "\n",
        "accuracy = clff.score(x_test,y_test)\n",
        "print('The Accuracy Percentage is '+ str(accuracy*100))\n"
      ],
      "metadata": {
        "colab": {
          "base_uri": "https://localhost:8080/"
        },
        "id": "KMs57J9g7ERw",
        "outputId": "68e4c3e1-e0c3-4cf8-b924-68135ada6f38"
      },
      "execution_count": null,
      "outputs": [
        {
          "output_type": "stream",
          "name": "stdout",
          "text": [
            "The Accuracy Percentage is 95.65217391304348\n"
          ]
        }
      ]
    },
    {
      "cell_type": "markdown",
      "source": [
        "#**5. Naive Bayes Alogroithm**"
      ],
      "metadata": {
        "id": "ajT19jDZPtTp"
      }
    },
    {
      "cell_type": "code",
      "source": [
        "import numpy as np\n",
        "import pandas as pd\n",
        "import warnings\n",
        "warnings.filterwarnings(\"ignore\")\n",
        "\n",
        "dt =pd.read_csv('/content/drive/MyDrive/iris.csv')\n",
        "\n",
        "feature = ['SepalLengthCm', 'SepalWidthCm', 'PetalLengthCm','PetalWidthCm']\n",
        "predict = ['Species']\n",
        "X = dt[feature].values\n",
        "Y = dt[predict].values\n",
        "\n",
        "from sklearn.model_selection import train_test_split\n",
        "\n",
        "x_train,x_test,y_train,y_test= train_test_split(X,Y,test_size=0.15, random_state= 4)\n",
        "\n",
        "from sklearn.naive_bayes import GaussianNB\n",
        "\n",
        "gaussian = GaussianNB()\n",
        "gaussian.fit(x_train, y_train)\n",
        "Y_pred = gaussian.predict(x_test)\n",
        "accuracy_nb  = accuracy_score(y_test,Y_pred)\n",
        "accuracy = accuracy_score(y_test,Y_pred)*100\n",
        "print('accuracy_Naive Bayes :'+ str(accuracy))\n"
      ],
      "metadata": {
        "colab": {
          "base_uri": "https://localhost:8080/"
        },
        "id": "o-OZLPLBP9Rb",
        "outputId": "45f6f581-92ff-4ffa-89de-428b743bdde8"
      },
      "execution_count": null,
      "outputs": [
        {
          "output_type": "stream",
          "name": "stdout",
          "text": [
            "accuracy_Naive Bayes :95.65217391304348\n"
          ]
        }
      ]
    },
    {
      "cell_type": "code",
      "source": [
        "import numpy as np\n",
        "import pandas as pd\n",
        "import warnings\n",
        "warnings.filterwarnings(\"ignore\")\n",
        "\n",
        "dt =pd.read_csv('/content/drive/MyDrive/iris.csv')\n",
        "\n",
        "feature = ['SepalLengthCm', 'SepalWidthCm', 'PetalLengthCm','PetalWidthCm']\n",
        "predict = ['Species']\n",
        "X = dt[feature].values\n",
        "y = dt[predict].values\n",
        "\n",
        "from sklearn.model_selection import train_test_split\n",
        "X_train, X_test, y_train, y_test = train_test_split(X, y, test_size = 0.15, random_state = 0)\n",
        "\n",
        "from sklearn.naive_bayes import MultinomialNB\n",
        "classifier = MultinomialNB()\n",
        "classifier.fit(X_train, y_train)\n",
        "\n",
        "y_pred = classifier.predict(X_test)\n",
        "\n",
        "from sklearn.metrics import accuracy_score\n",
        "\n",
        "accuracy = accuracy_score(y_test, y_pred)*100\n",
        "print(\"Accuracy :\",accuracy)"
      ],
      "metadata": {
        "colab": {
          "base_uri": "https://localhost:8080/"
        },
        "id": "_RH8vvSmd6qP",
        "outputId": "3dfb95a6-ac3d-44b5-a923-940b9b696fac"
      },
      "execution_count": null,
      "outputs": [
        {
          "output_type": "stream",
          "name": "stdout",
          "text": [
            "Accuracy : 62.93103448275862\n"
          ]
        }
      ]
    },
    {
      "cell_type": "code",
      "source": [
        "import numpy as np\n",
        "import pandas as pd\n",
        "import warnings\n",
        "warnings.filterwarnings(\"ignore\")\n",
        "\n",
        "dt =pd.read_csv('/content/drive/MyDrive/iris.csv')\n",
        "\n",
        "feature = ['SepalLengthCm', 'SepalWidthCm', 'PetalLengthCm','PetalWidthCm']\n",
        "predict = ['Species']\n",
        "X = dt[feature].values\n",
        "y = dt[predict].values\n",
        "\n",
        "from sklearn.model_selection import train_test_split\n",
        "X_train, X_test, y_train, y_test = train_test_split(X, y, test_size = 0.15, random_state = 0)\n",
        "\n",
        "from sklearn.naive_bayes import BernoulliNB\n",
        "classifier = BernoulliNB()\n",
        "classifier.fit(X_train, y_train)\n",
        "\n",
        "y_pred = classifier.predict(X_test)\n",
        "\n",
        "from sklearn.metrics import accuracy_score\n",
        "\n",
        "accuracy = accuracy_score(y_test, y_pred)*100\n",
        "print(\"Accuracy :\",accuracy)"
      ],
      "metadata": {
        "colab": {
          "base_uri": "https://localhost:8080/"
        },
        "id": "BXTWabDqegZF",
        "outputId": "ea0b560e-f4c4-474a-a6de-a1ce2469400d"
      },
      "execution_count": null,
      "outputs": [
        {
          "output_type": "stream",
          "name": "stdout",
          "text": [
            "Accuracy : 67.24137931034483\n"
          ]
        }
      ]
    },
    {
      "cell_type": "code",
      "source": [
        "import numpy as np\n",
        "import pandas as pd\n",
        "import warnings\n",
        "warnings.filterwarnings(\"ignore\")\n",
        "\n",
        "dt =pd.read_csv('/content/drive/MyDrive/iris.csv')\n",
        "\n",
        "feature = ['SepalLengthCm', 'SepalWidthCm', 'PetalLengthCm','PetalWidthCm']\n",
        "predict = ['Species']\n",
        "X = dt[feature].values\n",
        "y = dt[predict].values\n",
        "\n",
        "from sklearn.model_selection import train_test_split\n",
        "X_train, X_test, y_train, y_test = train_test_split(X, y, test_size = 0.15, random_state = 0)\n",
        "\n",
        "from sklearn.naive_bayes import ComplementNB\n",
        "classifier = ComplementNB()\n",
        "classifier.fit(X_train, y_train)\n",
        "\n",
        "y_pred = classifier.predict(X_test)\n",
        "\n",
        "from sklearn.metrics import accuracy_score\n",
        "\n",
        "accuracy = accuracy_score(y_test, y_pred)*100\n",
        "print(\"Accuracy :\",accuracy)"
      ],
      "metadata": {
        "colab": {
          "base_uri": "https://localhost:8080/"
        },
        "id": "JuvDgd7-egFU",
        "outputId": "b24588a3-f78d-4348-d9e1-af492ea87da3"
      },
      "execution_count": null,
      "outputs": [
        {
          "output_type": "stream",
          "name": "stdout",
          "text": [
            "Accuracy : 61.206896551724135\n"
          ]
        }
      ]
    },
    {
      "cell_type": "markdown",
      "source": [
        "#**6. logistic Regression**"
      ],
      "metadata": {
        "id": "BR4lgsjASOM3"
      }
    },
    {
      "cell_type": "code",
      "source": [
        "import numpy as np# mathematical calculation\n",
        "import pandas as pd# anylsis of data\n",
        "import warnings\n",
        "warnings.filterwarnings(\"ignore\")\n",
        "\n",
        "dt =pd.read_csv('/content/drive/MyDrive/iris.csv')\n",
        "\n",
        "feature = ['SepalLengthCm', 'SepalWidthCm', 'PetalLengthCm','PetalWidthCm']\n",
        "predict = ['Species']\n",
        "X = dt[feature].values\n",
        "Y = dt[predict].values\n",
        "\n",
        "from sklearn.model_selection import train_test_split\n",
        "\n",
        "x_train,x_test,y_train,y_test= train_test_split(X,Y,test_size=0.15, random_state= 4)\n",
        "\n",
        "\n",
        "from sklearn.linear_model import LogisticRegression\n",
        "\n",
        "lr = LogisticRegression(C=100.0, random_state=1, solver='lbfgs', multi_class='ovr')\n",
        "lr.fit(x_train, y_train)\n",
        "\n",
        "from sklearn import metrics\n",
        "\n",
        "Y_pred = lr.predict(x_test)\n",
        "\n",
        "accracy = metrics.accuracy_score(y_test, Y_pred)*100\n",
        "\n",
        "print(\"LogisticRegression Accuracy :\"+ str(accuracy))"
      ],
      "metadata": {
        "colab": {
          "base_uri": "https://localhost:8080/"
        },
        "id": "QAdk3FY0ULpL",
        "outputId": "c1aab64f-47ca-4717-e25d-4b05d758df86"
      },
      "execution_count": null,
      "outputs": [
        {
          "output_type": "stream",
          "name": "stdout",
          "text": [
            "LogisticRegression Accuracy :100.0\n"
          ]
        }
      ]
    },
    {
      "cell_type": "markdown",
      "source": [
        "#**7. Decision Tree Classifier**"
      ],
      "metadata": {
        "id": "CgmhHU3YV1OF"
      }
    },
    {
      "cell_type": "code",
      "source": [
        "import numpy as np\n",
        "import pandas as pd\n",
        "import warnings\n",
        "warnings.filterwarnings(\"ignore\")\n",
        "\n",
        "dt =pd.read_csv('/content/drive/MyDrive/iris.csv')\n",
        "\n",
        "feature = ['SepalLengthCm', 'SepalWidthCm', 'PetalLengthCm','PetalWidthCm']\n",
        "predict = ['Species']\n",
        "X = dt[feature].values\n",
        "Y = dt[predict].values\n",
        "\n",
        "from sklearn.model_selection import train_test_split\n",
        "\n",
        "x_train,x_test,y_train,y_test= train_test_split(X,Y,test_size=0.15, random_state= 4)\n",
        "\n",
        "from sklearn.tree import DecisionTreeClassifier\n",
        "\n",
        "clff = DecisionTreeClassifier()\n",
        "clff.fit(x_train,y_train)\n",
        "Y_pred = clff.predict(x_test)\n",
        "\n",
        "from sklearn import metrics\n",
        "\n",
        "accuracy = str(metrics.accuracy_score(y_test,Y_pred)*100)\n",
        "print('Accuracy : ' + accuracy)"
      ],
      "metadata": {
        "colab": {
          "base_uri": "https://localhost:8080/"
        },
        "id": "kS6XqLIBXOKU",
        "outputId": "ce4ef822-fb8c-419e-8cae-11d47b270ba3"
      },
      "execution_count": null,
      "outputs": [
        {
          "output_type": "stream",
          "name": "stdout",
          "text": [
            "Accuracy : 95.65217391304348\n"
          ]
        }
      ]
    },
    {
      "cell_type": "markdown",
      "source": [
        "#**8. Random Forest Classifier**"
      ],
      "metadata": {
        "id": "LuyZ5HzsocFF"
      }
    },
    {
      "cell_type": "code",
      "source": [
        "import numpy as np\n",
        "import pandas as pd\n",
        "import warnings\n",
        "warnings.filterwarnings(\"ignore\")\n",
        "\n",
        "dt =pd.read_csv('/content/drive/MyDrive/iris.csv')\n",
        "\n",
        "feature = ['SepalLengthCm', 'SepalWidthCm', 'PetalLengthCm','PetalWidthCm']\n",
        "predict = ['Species']\n",
        "X = dt[feature].values\n",
        "Y = dt[predict].values\n",
        "\n",
        "from sklearn.model_selection import train_test_split\n",
        "\n",
        "x_train,x_test,y_train,y_test= train_test_split(X,Y,test_size=0.15, random_state= 4)\n",
        "\n",
        "\n",
        "from sklearn.ensemble import RandomForestClassifier\n",
        "clff = RandomForestClassifier(n_estimators = 100)\n",
        "clff.fit(x_train,y_train)\n",
        "Y_pred = clff.predict(x_test)\n",
        "\n",
        "\n",
        "from sklearn import metrics\n",
        "accuracy = str(metrics.accuracy_score(y_test,Y_pred)*100)\n",
        "print(\"Accuracy :\",accuracy)"
      ],
      "metadata": {
        "colab": {
          "base_uri": "https://localhost:8080/"
        },
        "id": "UjPN5WdWoW4Z",
        "outputId": "e176d174-b273-40b4-8bd5-6fe6a5a05c81"
      },
      "execution_count": null,
      "outputs": [
        {
          "output_type": "stream",
          "name": "stdout",
          "text": [
            "Accuracy : 95.65217391304348\n"
          ]
        }
      ]
    },
    {
      "cell_type": "markdown",
      "source": [
        "#**9.Voting Classifier**"
      ],
      "metadata": {
        "id": "haowQBz0qF8R"
      }
    },
    {
      "cell_type": "code",
      "source": [
        "import numpy as np\n",
        "import pandas as pd\n",
        "import warnings\n",
        "warnings.filterwarnings(\"ignore\")\n",
        "\n",
        "dt =pd.read_csv('/content/drive/MyDrive/iris.csv')\n",
        "\n",
        "feature = ['SepalLengthCm', 'SepalWidthCm', 'PetalLengthCm','PetalWidthCm']\n",
        "predict = ['Species']\n",
        "X = dt[feature].values\n",
        "Y = dt[predict].values\n",
        "\n",
        "from sklearn.model_selection import train_test_split\n",
        "\n",
        "x_train,x_test,y_train,y_test= train_test_split(X,Y,test_size=0.2, random_state= 4)\n",
        "\n",
        "from sklearn.svm import SVC\n",
        "from sklearn.neighbors import KNeighborsClassifier\n",
        "from sklearn.ensemble import RandomForestClassifier\n",
        "\n",
        "sv=SVC(kernel=\"linear\")\n",
        "kn=KNeighborsClassifier(n_neighbors=5,metric=\"minkowski\",p=2)\n",
        "r=RandomForestClassifier()\n",
        "\n",
        "sv.fit(x_train,y_train)\n",
        "kn.fit(x_train,y_train)\n",
        "r.fit(x_train,y_train)\n",
        "\n",
        "p1=sv.predict(x_train)\n",
        "p2=kn.predict(x_train)\n",
        "p3=r.predict(x_train)\n",
        "\n",
        "from sklearn.ensemble import VotingClassifier\n",
        "vc=VotingClassifier(estimators=[(\"SVM\",sv),(\"KNN\",kn),(\"RandomF\",r)])\n",
        "vc.fit(x_train,y_train)\n",
        "\n",
        "VotingClassifier(estimators=[('SVM', SVC(kernel='linear')),\n",
        "                             ('KNN', KNeighborsClassifier()),\n",
        "                             ('RandomF', RandomForestClassifier())])\n",
        "\n",
        "pp=vc.predict(x_train)\n",
        "\n",
        "from sklearn.metrics import accuracy_score\n",
        "\n",
        "accuracy = str(accuracy_score(pp,y_train)*100)\n",
        "print(\"Accuracy :\",accuracy)"
      ],
      "metadata": {
        "colab": {
          "base_uri": "https://localhost:8080/"
        },
        "id": "2RUKQCMOstsd",
        "outputId": "f2d509fe-a20b-4e73-8bb8-92cc78894b74"
      },
      "execution_count": null,
      "outputs": [
        {
          "output_type": "stream",
          "name": "stdout",
          "text": [
            "Accuracy : 98.33333333333333\n"
          ]
        }
      ]
    },
    {
      "cell_type": "markdown",
      "source": [
        "#**10.  Linear Regression**"
      ],
      "metadata": {
        "id": "53E5_j8_qc5q"
      }
    },
    {
      "cell_type": "code",
      "source": [
        "import numpy as np\n",
        "import pandas as pd\n",
        "import warnings\n",
        "warnings.filterwarnings(\"ignore\")\n",
        "\n",
        "dt =pd.read_csv('/content/drive/MyDrive/iris.csv')\n",
        "\n",
        "feature = ['SepalLengthCm', 'SepalWidthCm', 'PetalLengthCm','PetalWidthCm']\n",
        "predict = ['Species']\n",
        "X = dt[feature].values\n",
        "Y = dt[predict].values\n",
        "\n",
        "from sklearn.model_selection import train_test_split\n",
        "\n",
        "x_train,x_test,y_train,y_test= train_test_split(X,Y,test_size=0.2, random_state= 4)\n",
        "\n",
        "from sklearn.linear_model import LinearRegression\n",
        "\n",
        "radio_model = LinearRegression()\n",
        "radio_model.fit(x_train, y_train)\n",
        "y_pred = radio_model.predict(x_test)\n",
        "\n",
        "from sklearn.metrics import accuracy_score\n",
        "\n",
        "accuracy = str(accuracy_score(y_pred,y_train)*100)\n",
        "print(\"Accuracy :\",accuracy)"
      ],
      "metadata": {
        "id": "mqaeGs48nUSX"
      },
      "execution_count": null,
      "outputs": []
    },
    {
      "cell_type": "markdown",
      "source": [
        "#**11.Artificial Neural Networks**"
      ],
      "metadata": {
        "id": "Y4ZO3kRercCm"
      }
    },
    {
      "cell_type": "code",
      "source": [
        "import numpy as np\n",
        "import pandas as pd\n",
        "import warnings\n",
        "warnings.filterwarnings(\"ignore\")\n",
        "\n",
        "dt =pd.read_csv('/content/drive/MyDrive/iris.csv')\n",
        "\n",
        "feature = ['SepalLengthCm', 'SepalWidthCm', 'PetalLengthCm','PetalWidthCm']\n",
        "predict = ['Species']\n",
        "X = dt[feature].values\n",
        "y = dt[predict].values\n",
        "\n",
        "from sklearn.model_selection import train_test_split\n",
        "X_train, X_test, y_train, y_test = train_test_split(X, y, test_size = 0.15, random_state = 0)\n",
        "\n",
        "from sklearn.neural_network import MLPClassifier\n",
        "neural = MLPClassifier(hidden_layer_sizes=(10,),max_iter=100)\n",
        "neural.fit(X_train,y_train)\n",
        "y_pred = neural.predict(X_test)\n",
        "\n",
        "from sklearn.metrics import accuracy_score\n",
        "\n",
        "accuracy = accuracy_score(y_test, y_pred)*100\n",
        "print(\"Accuracy :\",accuracy)"
      ],
      "metadata": {
        "colab": {
          "base_uri": "https://localhost:8080/"
        },
        "id": "F7680FaLbvwK",
        "outputId": "736d12b7-d85a-4d13-f234-29b19c1c98b5"
      },
      "execution_count": null,
      "outputs": [
        {
          "output_type": "stream",
          "name": "stdout",
          "text": [
            "Accuracy : 52.17391304347826\n"
          ]
        }
      ]
    },
    {
      "cell_type": "markdown",
      "source": [
        "#**12. XG Boosting**"
      ],
      "metadata": {
        "id": "SnVa1MU3fW5_"
      }
    },
    {
      "cell_type": "code",
      "source": [
        "import numpy as np\n",
        "import pandas as pd\n",
        "import warnings\n",
        "warnings.filterwarnings(\"ignore\")\n",
        "\n",
        "dt =pd.read_csv('/content/drive/MyDrive/iris.csv')\n",
        "\n",
        "feature = ['SepalLengthCm', 'SepalWidthCm', 'PetalLengthCm','PetalWidthCm']\n",
        "predict = ['Species']\n",
        "X = dt[feature].values\n",
        "y = dt[predict].values\n",
        "\n",
        "from sklearn.model_selection import train_test_split\n",
        "X_train, X_test, y_train, y_test = train_test_split(X, y, test_size = 0.15, random_state = 0)\n",
        "\n",
        "from xgboost import XGBClassifier\n",
        "xgb = XGBClassifier(learning_rate=0.1)\n",
        "#xgb = XGBClassifier(learning_rate=1, n_estimators=25, max_depth=15,gamma=0.6, subsample=0.52,colsample_bytree=0.6,seed=27,reg_lambda=2, booster='dart', colsample_bylevel=0.6, colsample_bynode=0.5)\n",
        "xgb.fit(X_train, y_train)\n",
        "y_pred = xgb.predict(X_test)\n",
        "\n",
        "from sklearn.metrics import accuracy_score\n",
        "\n",
        "accuracy = accuracy_score(y_test, y_pred)*100\n",
        "print(\"Accuracy :\",accuracy)"
      ],
      "metadata": {
        "colab": {
          "base_uri": "https://localhost:8080/"
        },
        "id": "DJDqNPg6fbPP",
        "outputId": "dc2da8e3-ee22-4f8f-c0fe-4f59b75304e2"
      },
      "execution_count": null,
      "outputs": [
        {
          "output_type": "stream",
          "name": "stdout",
          "text": [
            "Accuracy : 95.65217391304348\n"
          ]
        }
      ]
    },
    {
      "cell_type": "markdown",
      "source": [
        "#**13. Gradient Boosting**"
      ],
      "metadata": {
        "id": "tFUdAky7f9wH"
      }
    },
    {
      "cell_type": "code",
      "source": [
        "import numpy as np\n",
        "import pandas as pd\n",
        "import warnings\n",
        "warnings.filterwarnings(\"ignore\")\n",
        "\n",
        "dt =pd.read_csv('/content/drive/MyDrive/iris.csv')\n",
        "\n",
        "feature = ['SepalLengthCm', 'SepalWidthCm', 'PetalLengthCm','PetalWidthCm']\n",
        "predict = ['Species']\n",
        "X = dt[feature].values\n",
        "y = dt[predict].values\n",
        "\n",
        "from sklearn.model_selection import train_test_split\n",
        "X_train, X_test, y_train, y_test = train_test_split(X, y, test_size = 0.15, random_state = 0)\n",
        "\n",
        "from sklearn.ensemble import GradientBoostingClassifier\n",
        "\n",
        "Grad = GradientBoostingClassifier(learning_rate=0.1)\n",
        "Grad.fit(X_train, y_train)\n",
        "y_pred = Grad.predict(X_test)\n",
        "\n",
        "from sklearn.metrics import accuracy_score\n",
        "\n",
        "accuracy = accuracy_score(y_test, y_pred)*100\n",
        "print(\"Accuracy :\",accuracy)"
      ],
      "metadata": {
        "colab": {
          "base_uri": "https://localhost:8080/"
        },
        "outputId": "b8f7e94e-0b29-4549-d129-6fcfd5a05cfb",
        "id": "ZqucnQBcf9wP"
      },
      "execution_count": null,
      "outputs": [
        {
          "output_type": "stream",
          "name": "stdout",
          "text": [
            "Accuracy : 100.0\n"
          ]
        }
      ]
    },
    {
      "cell_type": "markdown",
      "source": [
        "#**14. K-Means**"
      ],
      "metadata": {
        "id": "ciJZict4iu2V"
      }
    },
    {
      "cell_type": "code",
      "source": [
        "import numpy as np\n",
        "import pandas as pd\n",
        "import warnings\n",
        "warnings.filterwarnings(\"ignore\")\n",
        "\n",
        "dt =pd.read_csv('/content/drive/MyDrive/iris.csv')\n",
        "\n",
        "feature = ['SepalLengthCm', 'SepalWidthCm', 'PetalLengthCm','PetalWidthCm']\n",
        "predict = ['Species']\n",
        "X = dt[feature].values\n",
        "y = dt[predict].values\n",
        "\n",
        "from sklearn.model_selection import train_test_split\n",
        "X_train, X_test, y_train, y_test = train_test_split(X, y, test_size = 0.15, random_state = 0)\n",
        "\n",
        "from sklearn.cluster import KMeans\n",
        "kmeans = KMeans(n_clusters=5, init='k-means++', random_state= 50)\n",
        "kmeans.fit(X_train, y_train)\n",
        "y_pred = kmeans.predict(X_test)\n",
        "\n",
        "from sklearn.metrics import accuracy_score\n",
        "\n",
        "accuracy = accuracy_score(y_test, y_pred)*100\n",
        "print(\"Accuracy :\",accuracy)"
      ],
      "metadata": {
        "colab": {
          "base_uri": "https://localhost:8080/"
        },
        "id": "f9BIRcbti0BC",
        "outputId": "7f984744-adbf-41fb-f44b-26c8bf61f63b"
      },
      "execution_count": null,
      "outputs": [
        {
          "output_type": "stream",
          "name": "stdout",
          "text": [
            "Accuracy : 0.0\n"
          ]
        }
      ]
    },
    {
      "cell_type": "markdown",
      "source": [
        "#**15. Perceptron**"
      ],
      "metadata": {
        "id": "R0sDe5RaneV5"
      }
    },
    {
      "cell_type": "code",
      "source": [
        "import numpy as np\n",
        "import pandas as pd\n",
        "import warnings\n",
        "warnings.filterwarnings(\"ignore\")\n",
        "\n",
        "dt =pd.read_csv('/content/drive/MyDrive/iris.csv')\n",
        "\n",
        "feature = ['SepalLengthCm', 'SepalWidthCm', 'PetalLengthCm','PetalWidthCm']\n",
        "predict = ['Species']\n",
        "X = dt[feature].values\n",
        "y = dt[predict].values\n",
        "\n",
        "from sklearn.model_selection import train_test_split\n",
        "X_train, X_test, y_train, y_test = train_test_split(X, y, test_size = 0.15, random_state = 0)\n",
        "\n",
        "from sklearn.linear_model import Perceptron\n",
        "\n",
        "percep = Perceptron(tol=1e-3, random_state=0)\n",
        "percep.fit(X_train, y_train)\n",
        "\n",
        "from sklearn.metrics import accuracy_score\n",
        "\n",
        "accuracy = accuracy_score(y_test, y_pred)*100\n",
        "print(\"Accuracy :\",accuracy)"
      ],
      "metadata": {
        "id": "ZQ3aOLlOnsQ6"
      },
      "execution_count": null,
      "outputs": []
    },
    {
      "cell_type": "code",
      "source": [
        "import numpy as np\n",
        "import pandas as pd\n",
        "import warnings\n",
        "warnings.filterwarnings(\"ignore\")\n",
        "\n",
        "dt =pd.read_csv('/content/drive/MyDrive/iris.csv')\n",
        "\n",
        "feature = ['SepalLengthCm', 'SepalWidthCm', 'PetalLengthCm','PetalWidthCm']\n",
        "predict = ['Species']\n",
        "X = dt[feature].values\n",
        "y = dt[predict].values\n",
        "\n",
        "from sklearn.model_selection import train_test_split\n",
        "x_train, x_test, y_train, y_test = train_test_split(X, y, test_size = 0.15, random_state = 0)\n",
        "\n",
        "from sklearn.ensemble import RandomForestClassifier\n",
        "from sklearn import svm\n",
        "from sklearn.linear_model import LogisticRegression\n",
        "from sklearn.ensemble import StackingClassifier\n",
        "\n",
        "models = [('rf', RandomForestClassifier(n_estimators=10,\n",
        "                                            random_state=42)),\n",
        "              ('svm', svm.SVC(kernel='linear'))]\n",
        "\n",
        "clf = StackingClassifier(estimators=models,\n",
        "                         final_estimator=LogisticRegression())\n",
        "\n",
        "clf.fit(x_train, y_train)\n",
        "Y_pred = clf.predict(x_test)\n",
        "\n",
        "from sklearn import metrics\n",
        "\n",
        "accuracy = metrics.accuracy_score(y_test, Y_pred)*100\n",
        "print(\"Accuracy :\"+ str(accuracy))"
      ],
      "metadata": {
        "colab": {
          "base_uri": "https://localhost:8080/"
        },
        "id": "PG90gsHjN5fl",
        "outputId": "8ad7bf0f-85c2-4e00-de40-de2cf310fcbe"
      },
      "execution_count": null,
      "outputs": [
        {
          "output_type": "stream",
          "name": "stdout",
          "text": [
            "Accuracy :100.0\n"
          ]
        }
      ]
    }
  ]
}